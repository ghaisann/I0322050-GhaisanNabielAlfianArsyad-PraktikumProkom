{
 "cells": [
  {
   "cell_type": "code",
   "execution_count": 2,
   "metadata": {},
   "outputs": [
    {
     "name": "stdout",
     "output_type": "stream",
     "text": [
      "Ghaisan\n",
      "I0322050\n",
      "B\n"
     ]
    }
   ],
   "source": [
    "print(input(\"Nama:\"))\n",
    "print(input(\"NIM:\"))\n",
    "print(input(\"Kelas:\"))"
   ]
  },
  {
   "attachments": {},
   "cell_type": "markdown",
   "metadata": {},
   "source": [
    "## 1."
   ]
  },
  {
   "attachments": {},
   "cell_type": "markdown",
   "metadata": {},
   "source": [
    "Buatlah program yang meminta input string dari user, kemudian program akan menentukan string tersebut adalah palyndrome atau bukan.<br>\n",
    "* Palyndrome adalah kata atau kalimat yang jika dibalik hasilnya sama\n",
    "* kasur rusak adalah palyndrome\n",
    "\n",
    "> *note: Kerjakan soal ini dengan percabangan*"
   ]
  },
  {
   "cell_type": "code",
   "execution_count": 3,
   "metadata": {},
   "outputs": [
    {
     "name": "stdout",
     "output_type": "stream",
     "text": [
      "kasur rusak adalah palyndrome\n"
     ]
    }
   ],
   "source": [
    "kata_atau_kalimat =str(input())\n",
    "hasil=kata_atau_kalimat[::-1]\n",
    "\n",
    "if kata_atau_kalimat==hasil:\n",
    "    print(kata_atau_kalimat,\"adalah palyndrome\")\n",
    "else:\n",
    "    print(kata_atau_kalimat,\"bukan palyndrome\")"
   ]
  },
  {
   "attachments": {},
   "cell_type": "markdown",
   "metadata": {},
   "source": [
    "## 2."
   ]
  },
  {
   "attachments": {},
   "cell_type": "markdown",
   "metadata": {},
   "source": [
    "Buatlah program yang meminta input berupa tahun dan bulan kemudian tampilkan jumlah hari pada bulan tersebut (perbedaan pada tahun kabisat).<br>\n",
    "\n",
    "> *note: Kerjakan soal ini dengan percabangan*"
   ]
  },
  {
   "cell_type": "code",
   "execution_count": 4,
   "metadata": {},
   "outputs": [
    {
     "name": "stdout",
     "output_type": "stream",
     "text": [
      "jumlah hari pada bulan februari tahun 1996 adalah 29\n"
     ]
    }
   ],
   "source": [
    "# Kerjakan soal no 2 di sini\n",
    "jumlah_hari_dalam_sebulan={\n",
    "    \"bukan kabisat\" :{\n",
    "    \"januari\" : 31, \"februari\" : 28,\n",
    "    \"maret\" : 31,\"april\" : 30,\n",
    "    \"mei\" : 31,\"juni\" : 30,\n",
    "    \"juli\" : 31,\"agustus\":31,\n",
    "    \"september\":30,\"oktober\":31,\n",
    "    \"november\":30,\"desember\":31\n",
    "    },\n",
    "    \"kabisat\" :{\n",
    "    \"januari\" : 31, \"februari\" : 29,\n",
    "    \"maret\" : 31,\"april\" : 30,\n",
    "    \"mei\" : 31,\"juni\" : 30,\n",
    "    \"juli\" : 31,\"agustus\":31,\n",
    "    \"september\":30,\"oktober\":31,\n",
    "    \"november\":30,\"desember\":31\n",
    "    }\n",
    "}\n",
    "\n",
    "tahun = int(input(\"masukkan tahun :\"))\n",
    "bulan = str(input(\"masukkan bulan :\"))\n",
    "bulan_b = bulan.lower()\n",
    "\n",
    "if tahun % 4 == 0 and (tahun % 100 != 0 or tahun % 400 == 0):\n",
    "    print (\"jumlah hari pada bulan\",bulan,\"tahun\",tahun,\"adalah\",(jumlah_hari_dalam_sebulan['kabisat'][bulan_b]))\n",
    "else:\n",
    "    print (\"jumlah hari pada bulan\",bulan,\"tahun\",tahun,\"adalah\",(jumlah_hari_dalam_sebulan['bukan kabisat'][bulan_b]))"
   ]
  }
 ],
 "metadata": {
  "kernelspec": {
   "display_name": "Python 3",
   "language": "python",
   "name": "python3"
  },
  "language_info": {
   "codemirror_mode": {
    "name": "ipython",
    "version": 3
   },
   "file_extension": ".py",
   "mimetype": "text/x-python",
   "name": "python",
   "nbconvert_exporter": "python",
   "pygments_lexer": "ipython3",
   "version": "3.10.8"
  },
  "orig_nbformat": 4
 },
 "nbformat": 4,
 "nbformat_minor": 2
}
